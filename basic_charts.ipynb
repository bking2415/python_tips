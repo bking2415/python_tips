{
 "cells": [
  {
   "cell_type": "code",
   "execution_count": 2,
   "metadata": {},
   "outputs": [
    {
     "ename": "AttributeError",
     "evalue": "module 'pandas' has no attribute 'tslib'",
     "output_type": "error",
     "traceback": [
      "\u001B[0;31m---------------------------------------------------------------------------\u001B[0m",
      "\u001B[0;31mAttributeError\u001B[0m                            Traceback (most recent call last)",
      "\u001B[0;32m/var/folders/r7/mrbyjvpj18dctpwycrd_v8l40000gn/T/ipykernel_2592/2485521107.py\u001B[0m in \u001B[0;36m<module>\u001B[0;34m\u001B[0m\n\u001B[1;32m      2\u001B[0m \u001B[0;31m# install ggplot in terminal: conda install -c conda-forge ggplot\u001B[0m\u001B[0;34m\u001B[0m\u001B[0;34m\u001B[0m\u001B[0;34m\u001B[0m\u001B[0m\n\u001B[1;32m      3\u001B[0m \u001B[0mget_ipython\u001B[0m\u001B[0;34m(\u001B[0m\u001B[0;34m)\u001B[0m\u001B[0;34m.\u001B[0m\u001B[0mrun_line_magic\u001B[0m\u001B[0;34m(\u001B[0m\u001B[0;34m'matplotlib'\u001B[0m\u001B[0;34m,\u001B[0m \u001B[0;34m'inline'\u001B[0m\u001B[0;34m)\u001B[0m\u001B[0;34m\u001B[0m\u001B[0;34m\u001B[0m\u001B[0m\n\u001B[0;32m----> 4\u001B[0;31m \u001B[0;32mfrom\u001B[0m \u001B[0mggplot\u001B[0m \u001B[0;32mimport\u001B[0m \u001B[0;34m*\u001B[0m\u001B[0;34m\u001B[0m\u001B[0;34m\u001B[0m\u001B[0m\n\u001B[0m\u001B[1;32m      5\u001B[0m \u001B[0;32mimport\u001B[0m \u001B[0mpandas\u001B[0m \u001B[0;32mas\u001B[0m \u001B[0mpd\u001B[0m\u001B[0;34m\u001B[0m\u001B[0;34m\u001B[0m\u001B[0m\n\u001B[1;32m      6\u001B[0m \u001B[0;32mimport\u001B[0m \u001B[0mnumpy\u001B[0m \u001B[0;32mas\u001B[0m \u001B[0mnp\u001B[0m\u001B[0;34m\u001B[0m\u001B[0;34m\u001B[0m\u001B[0m\n",
      "\u001B[0;32m~/PycharmProjects/python_tips/tensorflow/lib/python3.8/site-packages/ggplot/__init__.py\u001B[0m in \u001B[0;36m<module>\u001B[0;34m\u001B[0m\n\u001B[1;32m     17\u001B[0m \u001B[0;34m\u001B[0m\u001B[0m\n\u001B[1;32m     18\u001B[0m \u001B[0;34m\u001B[0m\u001B[0m\n\u001B[0;32m---> 19\u001B[0;31m \u001B[0;32mfrom\u001B[0m \u001B[0;34m.\u001B[0m\u001B[0mgeoms\u001B[0m \u001B[0;32mimport\u001B[0m \u001B[0mgeom_area\u001B[0m\u001B[0;34m,\u001B[0m \u001B[0mgeom_blank\u001B[0m\u001B[0;34m,\u001B[0m \u001B[0mgeom_boxplot\u001B[0m\u001B[0;34m,\u001B[0m \u001B[0mgeom_line\u001B[0m\u001B[0;34m,\u001B[0m \u001B[0mgeom_point\u001B[0m\u001B[0;34m,\u001B[0m \u001B[0mgeom_jitter\u001B[0m\u001B[0;34m,\u001B[0m \u001B[0mgeom_histogram\u001B[0m\u001B[0;34m,\u001B[0m \u001B[0mgeom_density\u001B[0m\u001B[0;34m,\u001B[0m \u001B[0mgeom_hline\u001B[0m\u001B[0;34m,\u001B[0m \u001B[0mgeom_vline\u001B[0m\u001B[0;34m,\u001B[0m \u001B[0mgeom_bar\u001B[0m\u001B[0;34m,\u001B[0m \u001B[0mgeom_abline\u001B[0m\u001B[0;34m,\u001B[0m \u001B[0mgeom_tile\u001B[0m\u001B[0;34m,\u001B[0m \u001B[0mgeom_rect\u001B[0m\u001B[0;34m,\u001B[0m \u001B[0mgeom_bin2d\u001B[0m\u001B[0;34m,\u001B[0m \u001B[0mgeom_step\u001B[0m\u001B[0;34m,\u001B[0m \u001B[0mgeom_text\u001B[0m\u001B[0;34m,\u001B[0m \u001B[0mgeom_path\u001B[0m\u001B[0;34m,\u001B[0m \u001B[0mgeom_ribbon\u001B[0m\u001B[0;34m,\u001B[0m \u001B[0mgeom_now_its_art\u001B[0m\u001B[0;34m,\u001B[0m \u001B[0mgeom_violin\u001B[0m\u001B[0;34m,\u001B[0m \u001B[0mgeom_errorbar\u001B[0m\u001B[0;34m,\u001B[0m \u001B[0mgeom_polygon\u001B[0m\u001B[0;34m\u001B[0m\u001B[0;34m\u001B[0m\u001B[0m\n\u001B[0m\u001B[1;32m     20\u001B[0m \u001B[0;32mfrom\u001B[0m \u001B[0;34m.\u001B[0m\u001B[0mstats\u001B[0m \u001B[0;32mimport\u001B[0m \u001B[0mstat_smooth\u001B[0m\u001B[0;34m,\u001B[0m \u001B[0mstat_density\u001B[0m\u001B[0;34m\u001B[0m\u001B[0;34m\u001B[0m\u001B[0m\n\u001B[1;32m     21\u001B[0m \u001B[0;34m\u001B[0m\u001B[0m\n",
      "\u001B[0;32m~/PycharmProjects/python_tips/tensorflow/lib/python3.8/site-packages/ggplot/geoms/__init__.py\u001B[0m in \u001B[0;36m<module>\u001B[0;34m\u001B[0m\n\u001B[0;32m----> 1\u001B[0;31m \u001B[0;32mfrom\u001B[0m \u001B[0;34m.\u001B[0m\u001B[0mgeom_abline\u001B[0m \u001B[0;32mimport\u001B[0m \u001B[0mgeom_abline\u001B[0m\u001B[0;34m\u001B[0m\u001B[0;34m\u001B[0m\u001B[0m\n\u001B[0m\u001B[1;32m      2\u001B[0m \u001B[0;32mfrom\u001B[0m \u001B[0;34m.\u001B[0m\u001B[0mgeom_area\u001B[0m \u001B[0;32mimport\u001B[0m \u001B[0mgeom_area\u001B[0m\u001B[0;34m\u001B[0m\u001B[0;34m\u001B[0m\u001B[0m\n\u001B[1;32m      3\u001B[0m \u001B[0;32mfrom\u001B[0m \u001B[0;34m.\u001B[0m\u001B[0mgeom_bar\u001B[0m \u001B[0;32mimport\u001B[0m \u001B[0mgeom_bar\u001B[0m\u001B[0;34m\u001B[0m\u001B[0;34m\u001B[0m\u001B[0m\n\u001B[1;32m      4\u001B[0m \u001B[0;32mfrom\u001B[0m \u001B[0;34m.\u001B[0m\u001B[0mgeom_bin2d\u001B[0m \u001B[0;32mimport\u001B[0m \u001B[0mgeom_bin2d\u001B[0m\u001B[0;34m\u001B[0m\u001B[0;34m\u001B[0m\u001B[0m\n\u001B[1;32m      5\u001B[0m \u001B[0;32mfrom\u001B[0m \u001B[0;34m.\u001B[0m\u001B[0mgeom_blank\u001B[0m \u001B[0;32mimport\u001B[0m \u001B[0mgeom_blank\u001B[0m\u001B[0;34m\u001B[0m\u001B[0;34m\u001B[0m\u001B[0m\n",
      "\u001B[0;32m~/PycharmProjects/python_tips/tensorflow/lib/python3.8/site-packages/ggplot/geoms/geom_abline.py\u001B[0m in \u001B[0;36m<module>\u001B[0;34m\u001B[0m\n\u001B[0;32m----> 1\u001B[0;31m \u001B[0;32mfrom\u001B[0m \u001B[0;34m.\u001B[0m\u001B[0mgeom\u001B[0m \u001B[0;32mimport\u001B[0m \u001B[0mgeom\u001B[0m\u001B[0;34m\u001B[0m\u001B[0;34m\u001B[0m\u001B[0m\n\u001B[0m\u001B[1;32m      2\u001B[0m \u001B[0;34m\u001B[0m\u001B[0m\n\u001B[1;32m      3\u001B[0m \u001B[0;32mclass\u001B[0m \u001B[0mgeom_abline\u001B[0m\u001B[0;34m(\u001B[0m\u001B[0mgeom\u001B[0m\u001B[0;34m)\u001B[0m\u001B[0;34m:\u001B[0m\u001B[0;34m\u001B[0m\u001B[0;34m\u001B[0m\u001B[0m\n\u001B[1;32m      4\u001B[0m     \"\"\"\n\u001B[1;32m      5\u001B[0m     \u001B[0mLine\u001B[0m \u001B[0mspecified\u001B[0m \u001B[0mby\u001B[0m \u001B[0mslope\u001B[0m \u001B[0;32mand\u001B[0m \u001B[0mintercept\u001B[0m\u001B[0;34m\u001B[0m\u001B[0;34m\u001B[0m\u001B[0m\n",
      "\u001B[0;32m~/PycharmProjects/python_tips/tensorflow/lib/python3.8/site-packages/ggplot/geoms/geom.py\u001B[0m in \u001B[0;36m<module>\u001B[0;34m\u001B[0m\n\u001B[1;32m      1\u001B[0m from __future__ import (absolute_import, division, print_function,\n\u001B[1;32m      2\u001B[0m                         unicode_literals)\n\u001B[0;32m----> 3\u001B[0;31m \u001B[0;32mfrom\u001B[0m \u001B[0;34m.\u001B[0m\u001B[0;34m.\u001B[0m\u001B[0mggplot\u001B[0m \u001B[0;32mimport\u001B[0m \u001B[0mggplot\u001B[0m\u001B[0;34m\u001B[0m\u001B[0;34m\u001B[0m\u001B[0m\n\u001B[0m\u001B[1;32m      4\u001B[0m \u001B[0;32mfrom\u001B[0m \u001B[0;34m.\u001B[0m\u001B[0;34m.\u001B[0m\u001B[0maes\u001B[0m \u001B[0;32mimport\u001B[0m \u001B[0maes\u001B[0m\u001B[0;34m\u001B[0m\u001B[0;34m\u001B[0m\u001B[0m\n\u001B[1;32m      5\u001B[0m \u001B[0;34m\u001B[0m\u001B[0m\n",
      "\u001B[0;32m~/PycharmProjects/python_tips/tensorflow/lib/python3.8/site-packages/ggplot/ggplot.py\u001B[0m in \u001B[0;36m<module>\u001B[0;34m\u001B[0m\n\u001B[1;32m     11\u001B[0m \u001B[0;32mimport\u001B[0m \u001B[0mwarnings\u001B[0m\u001B[0;34m\u001B[0m\u001B[0;34m\u001B[0m\u001B[0m\n\u001B[1;32m     12\u001B[0m \u001B[0;34m\u001B[0m\u001B[0m\n\u001B[0;32m---> 13\u001B[0;31m \u001B[0;32mfrom\u001B[0m \u001B[0;34m.\u001B[0m\u001B[0maes\u001B[0m \u001B[0;32mimport\u001B[0m \u001B[0maes\u001B[0m\u001B[0;34m\u001B[0m\u001B[0;34m\u001B[0m\u001B[0m\n\u001B[0m\u001B[1;32m     14\u001B[0m \u001B[0;32mfrom\u001B[0m \u001B[0;34m.\u001B[0m\u001B[0mlegend\u001B[0m \u001B[0;32mimport\u001B[0m \u001B[0mmake_legend\u001B[0m\u001B[0;34m\u001B[0m\u001B[0;34m\u001B[0m\u001B[0m\n\u001B[1;32m     15\u001B[0m \u001B[0;32mfrom\u001B[0m \u001B[0;34m.\u001B[0m\u001B[0mthemes\u001B[0m \u001B[0;32mimport\u001B[0m \u001B[0mtheme_gray\u001B[0m\u001B[0;34m\u001B[0m\u001B[0;34m\u001B[0m\u001B[0m\n",
      "\u001B[0;32m~/PycharmProjects/python_tips/tensorflow/lib/python3.8/site-packages/ggplot/aes.py\u001B[0m in \u001B[0;36m<module>\u001B[0;34m\u001B[0m\n\u001B[1;32m      9\u001B[0m \u001B[0;32mfrom\u001B[0m \u001B[0mpatsy\u001B[0m\u001B[0;34m.\u001B[0m\u001B[0meval\u001B[0m \u001B[0;32mimport\u001B[0m \u001B[0mEvalEnvironment\u001B[0m\u001B[0;34m\u001B[0m\u001B[0;34m\u001B[0m\u001B[0m\n\u001B[1;32m     10\u001B[0m \u001B[0;34m\u001B[0m\u001B[0m\n\u001B[0;32m---> 11\u001B[0;31m \u001B[0;32mfrom\u001B[0m \u001B[0;34m.\u001B[0m \u001B[0;32mimport\u001B[0m \u001B[0mutils\u001B[0m\u001B[0;34m\u001B[0m\u001B[0;34m\u001B[0m\u001B[0m\n\u001B[0m\u001B[1;32m     12\u001B[0m \u001B[0;34m\u001B[0m\u001B[0m\n\u001B[1;32m     13\u001B[0m \u001B[0;32mimport\u001B[0m \u001B[0mnumpy\u001B[0m \u001B[0;32mas\u001B[0m \u001B[0mnp\u001B[0m\u001B[0;34m\u001B[0m\u001B[0;34m\u001B[0m\u001B[0m\n",
      "\u001B[0;32m~/PycharmProjects/python_tips/tensorflow/lib/python3.8/site-packages/ggplot/utils.py\u001B[0m in \u001B[0;36m<module>\u001B[0;34m\u001B[0m\n\u001B[1;32m     79\u001B[0m \u001B[0;34m\u001B[0m\u001B[0m\n\u001B[1;32m     80\u001B[0m date_types = (\n\u001B[0;32m---> 81\u001B[0;31m     \u001B[0mpd\u001B[0m\u001B[0;34m.\u001B[0m\u001B[0mtslib\u001B[0m\u001B[0;34m.\u001B[0m\u001B[0mTimestamp\u001B[0m\u001B[0;34m,\u001B[0m\u001B[0;34m\u001B[0m\u001B[0;34m\u001B[0m\u001B[0m\n\u001B[0m\u001B[1;32m     82\u001B[0m     \u001B[0mpd\u001B[0m\u001B[0;34m.\u001B[0m\u001B[0mDatetimeIndex\u001B[0m\u001B[0;34m,\u001B[0m\u001B[0;34m\u001B[0m\u001B[0;34m\u001B[0m\u001B[0m\n\u001B[1;32m     83\u001B[0m     \u001B[0mpd\u001B[0m\u001B[0;34m.\u001B[0m\u001B[0mPeriod\u001B[0m\u001B[0;34m,\u001B[0m\u001B[0;34m\u001B[0m\u001B[0;34m\u001B[0m\u001B[0m\n",
      "\u001B[0;32m~/PycharmProjects/python_tips/tensorflow/lib/python3.8/site-packages/pandas/__init__.py\u001B[0m in \u001B[0;36m__getattr__\u001B[0;34m(name)\u001B[0m\n\u001B[1;32m    242\u001B[0m         \u001B[0;32mreturn\u001B[0m \u001B[0m_SparseArray\u001B[0m\u001B[0;34m\u001B[0m\u001B[0;34m\u001B[0m\u001B[0m\n\u001B[1;32m    243\u001B[0m \u001B[0;34m\u001B[0m\u001B[0m\n\u001B[0;32m--> 244\u001B[0;31m     \u001B[0;32mraise\u001B[0m \u001B[0mAttributeError\u001B[0m\u001B[0;34m(\u001B[0m\u001B[0;34mf\"module 'pandas' has no attribute '{name}'\"\u001B[0m\u001B[0;34m)\u001B[0m\u001B[0;34m\u001B[0m\u001B[0;34m\u001B[0m\u001B[0m\n\u001B[0m\u001B[1;32m    245\u001B[0m \u001B[0;34m\u001B[0m\u001B[0m\n\u001B[1;32m    246\u001B[0m \u001B[0;34m\u001B[0m\u001B[0m\n",
      "\u001B[0;31mAttributeError\u001B[0m: module 'pandas' has no attribute 'tslib'"
     ]
    }
   ],
   "source": [
    "'''ggplot install error for python 3'''\n",
    "#TODO need to update based on Python3\n",
    "# import libraries\n",
    "# install ggplot in terminal: conda install -c conda-forge ggplot\n",
    "%matplotlib inline\n",
    "from ggplot import *\n",
    "import pandas as pd\n",
    "import numpy as np"
   ]
  },
  {
   "cell_type": "code",
   "execution_count": 4,
   "metadata": {},
   "outputs": [
    {
     "ename": "NameError",
     "evalue": "name 'diamonds' is not defined",
     "output_type": "error",
     "traceback": [
      "\u001B[0;31m---------------------------------------------------------------------------\u001B[0m",
      "\u001B[0;31mNameError\u001B[0m                                 Traceback (most recent call last)",
      "\u001B[0;32m/var/folders/r7/mrbyjvpj18dctpwycrd_v8l40000gn/T/ipykernel_2592/711016874.py\u001B[0m in \u001B[0;36m<module>\u001B[0;34m\u001B[0m\n\u001B[1;32m      1\u001B[0m \u001B[0;31m# Take a look at the diamonds data set\u001B[0m\u001B[0;34m\u001B[0m\u001B[0;34m\u001B[0m\u001B[0;34m\u001B[0m\u001B[0m\n\u001B[0;32m----> 2\u001B[0;31m \u001B[0mdiamonds\u001B[0m\u001B[0;34m.\u001B[0m\u001B[0mhead\u001B[0m\u001B[0;34m(\u001B[0m\u001B[0;34m)\u001B[0m\u001B[0;34m\u001B[0m\u001B[0;34m\u001B[0m\u001B[0m\n\u001B[0m\u001B[1;32m      3\u001B[0m \u001B[0;34m\u001B[0m\u001B[0m\n",
      "\u001B[0;31mNameError\u001B[0m: name 'diamonds' is not defined"
     ]
    }
   ],
   "source": [
    "# Take a look at the diamonds data set\n",
    "diamonds.head()"
   ]
  },
  {
   "cell_type": "code",
   "execution_count": null,
   "metadata": {},
   "outputs": [],
   "source": [
    "diamonds.tail()"
   ]
  },
  {
   "cell_type": "code",
   "execution_count": null,
   "metadata": {},
   "outputs": [],
   "source": [
    "# How big is the data set?\n",
    "len(diamonds)"
   ]
  },
  {
   "cell_type": "code",
   "execution_count": null,
   "metadata": {},
   "outputs": [],
   "source": [
    "# Now let's build a quick plot (qplot)\n",
    "qplot(x='price',data=diamonds)"
   ]
  },
  {
   "cell_type": "code",
   "execution_count": null,
   "metadata": {},
   "outputs": [],
   "source": [
    "qplot(x='cut',y='price', data=diamonds, geom='bar')"
   ]
  },
  {
   "cell_type": "code",
   "execution_count": null,
   "metadata": {},
   "outputs": [],
   "source": [
    "qplot(x='price',y='carat', data=diamonds, geom='line')"
   ]
  },
  {
   "cell_type": "code",
   "execution_count": null,
   "metadata": {},
   "outputs": [],
   "source": [
    "qplot(x='price',y='carat', data=diamonds, geom='jitter', color='cut')"
   ]
  },
  {
   "cell_type": "code",
   "execution_count": null,
   "metadata": {},
   "outputs": [],
   "source": [
    "# Create a separate line for each clarity\n",
    "ggplot(diamonds, aes(x='price', color='clarity')) + \\\n",
    "    geom_density()"
   ]
  },
  {
   "cell_type": "code",
   "execution_count": null,
   "metadata": {
    "collapsed": true
   },
   "outputs": [],
   "source": []
  }
 ],
 "metadata": {
  "kernelspec": {
   "name": "python3",
   "language": "python",
   "display_name": "Python 3 (ipykernel)"
  },
  "language_info": {
   "codemirror_mode": {
    "name": "ipython",
    "version": 2
   },
   "file_extension": ".py",
   "mimetype": "text/x-python",
   "name": "python",
   "nbconvert_exporter": "python",
   "pygments_lexer": "ipython2",
   "version": "2.7.13"
  }
 },
 "nbformat": 4,
 "nbformat_minor": 1
}