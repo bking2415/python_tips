{
 "cells": [
  {
   "cell_type": "code",
   "execution_count": 1,
   "metadata": {
    "collapsed": true
   },
   "outputs": [],
   "source": [
    "import requests\n",
    "response = requests.get('https://api.github.com/repos/bsullins/data/contents/monthlySalesbyCategoryMultiple.json')"
   ]
  },
  {
   "cell_type": "code",
   "execution_count": 9,
   "metadata": {
    "collapsed": true
   },
   "outputs": [
    {
     "data": {
      "text/plain": "{'name': 'monthlySalesbyCategoryMultiple.json',\n 'path': 'monthlySalesbyCategoryMultiple.json',\n 'sha': '908f6d5411494915e948f145cb9fbb8bcae4f225',\n 'size': 1682,\n 'url': 'https://api.github.com/repos/bsullins/data/contents/monthlySalesbyCategoryMultiple.json?ref=master',\n 'html_url': 'https://github.com/bsullins/data/blob/master/monthlySalesbyCategoryMultiple.json',\n 'git_url': 'https://api.github.com/repos/bsullins/data/git/blobs/908f6d5411494915e948f145cb9fbb8bcae4f225',\n 'download_url': 'https://raw.githubusercontent.com/bsullins/data/master/monthlySalesbyCategoryMultiple.json',\n 'type': 'file',\n 'content': 'eyAiY29udGVudHMiOiBbCiAgewogICAgImNhdGVnb3J5IjogIkZ1cm5pdHVy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\\nIH0KICAgIF0KICB9Cl19IAo=\\n',\n 'encoding': 'base64',\n '_links': {'self': 'https://api.github.com/repos/bsullins/data/contents/monthlySalesbyCategoryMultiple.json?ref=master',\n  'git': 'https://api.github.com/repos/bsullins/data/git/blobs/908f6d5411494915e948f145cb9fbb8bcae4f225',\n  'html': 'https://github.com/bsullins/data/blob/master/monthlySalesbyCategoryMultiple.json'}}"
     },
     "execution_count": 9,
     "metadata": {},
     "output_type": "execute_result"
    }
   ],
   "source": [
    "import json\n",
    "# Load the data\n",
    "resp_json = json.loads(response.text)\n",
    "resp_json"
   ]
  },
  {
   "cell_type": "code",
   "execution_count": 12,
   "metadata": {
    "collapsed": true
   },
   "outputs": [],
   "source": [
    "import base64\n",
    "# Decode the data\n",
    "# Don't need to decode\n",
    "val = json.loads(base64.b64decode(resp_json['content']))"
   ]
  },
  {
   "cell_type": "code",
   "execution_count": 13,
   "metadata": {},
   "outputs": [
    {
     "name": "stdout",
     "output_type": "stream",
     "text": [
      "{'contents': [{'category': 'Furniture',\n",
      "               'monthlySales': [{'month': 20130101, 'sales': 38},\n",
      "                                {'month': 20130201, 'sales': 35},\n",
      "                                {'month': 20130301, 'sales': 41},\n",
      "                                {'month': 20130401, 'sales': 55},\n",
      "                                {'month': 20130501, 'sales': 58},\n",
      "                                {'month': 20130601, 'sales': 66},\n",
      "                                {'month': 20130701, 'sales': 74},\n",
      "                                {'month': 20130801, 'sales': 78},\n",
      "                                {'month': 20130901, 'sales': 38},\n",
      "                                {'month': 20131001, 'sales': 30},\n",
      "                                {'month': 20131101, 'sales': 26},\n",
      "                                {'month': 20131201, 'sales': 29}],\n",
      "               'region': 'West'},\n",
      "              {'category': 'Technology',\n",
      "               'monthlySales': [{'month': 20130101, 'sales': 54},\n",
      "                                {'month': 20130201, 'sales': 66},\n",
      "                                {'month': 20130301, 'sales': 77},\n",
      "                                {'month': 20130401, 'sales': 70},\n",
      "                                {'month': 20130501, 'sales': 60},\n",
      "                                {'month': 20130601, 'sales': 63},\n",
      "                                {'month': 20130701, 'sales': 55},\n",
      "                                {'month': 20130801, 'sales': 47},\n",
      "                                {'month': 20130901, 'sales': 55},\n",
      "                                {'month': 20131001, 'sales': 30},\n",
      "                                {'month': 20131101, 'sales': 22},\n",
      "                                {'month': 20131201, 'sales': 77}],\n",
      "               'region': 'West'}]}\n"
     ]
    }
   ],
   "source": [
    "# Pretty print\n",
    "from pprint import pprint as pp\n",
    "pp(val)"
   ]
  },
  {
   "cell_type": "code",
   "execution_count": 15,
   "metadata": {},
   "outputs": [
    {
     "name": "stdout",
     "output_type": "stream",
     "text": [
      "month:  20130101\n",
      "sales:  38\n",
      "month:  20130201\n",
      "sales:  35\n",
      "month:  20130301\n",
      "sales:  41\n",
      "month:  20130401\n",
      "sales:  55\n",
      "month:  20130501\n",
      "sales:  58\n",
      "month:  20130601\n",
      "sales:  66\n",
      "month:  20130701\n",
      "sales:  74\n",
      "month:  20130801\n",
      "sales:  78\n",
      "month:  20130901\n",
      "sales:  38\n",
      "month:  20131001\n",
      "sales:  30\n",
      "month:  20131101\n",
      "sales:  26\n",
      "month:  20131201\n",
      "sales:  29\n",
      "month:  20130101\n",
      "sales:  54\n",
      "month:  20130201\n",
      "sales:  66\n",
      "month:  20130301\n",
      "sales:  77\n",
      "month:  20130401\n",
      "sales:  70\n",
      "month:  20130501\n",
      "sales:  60\n",
      "month:  20130601\n",
      "sales:  63\n",
      "month:  20130701\n",
      "sales:  55\n",
      "month:  20130801\n",
      "sales:  47\n",
      "month:  20130901\n",
      "sales:  55\n",
      "month:  20131001\n",
      "sales:  30\n",
      "month:  20131101\n",
      "sales:  22\n",
      "month:  20131201\n",
      "sales:  77\n"
     ]
    }
   ],
   "source": [
    "# print the keys and values at the third level\n",
    "for a in val['contents']:\n",
    "    for b in a['monthlySales']:\n",
    "        for key, value in b.items():\n",
    "            print(key + \": \", value)"
   ]
  },
  {
   "cell_type": "code",
   "execution_count": 14,
   "metadata": {
    "collapsed": true
   },
   "outputs": [],
   "source": [
    "response = requests.get('https://api.github.com/repos/bsullins/data/contents/MonthlySales.csv')"
   ]
  },
  {
   "cell_type": "code",
   "execution_count": 26,
   "metadata": {
    "collapsed": true
   },
   "outputs": [
    {
     "data": {
      "text/plain": "'bW9udGgsc2FsZXMNCjIwMTMtMDEtMDEsMTQyMzYuOQ0KMjAxMy0wMi0wMSw0\\nNTE5Ljg5DQoyMDEzLTAzLTAxLDU1NjkxLjAxDQoyMDEzLTA0LTAxLDI4Mjk1\\nLjM1DQoyMDEzLTA1LTAxLDIzNjQ4LjI5DQoyMDEzLTA2LTAxLDM0NTk1LjEz\\nDQoyMDEzLTA3LTAxLDMzOTQ2LjM5DQoyMDEzLTA4LTAxLDI3OTA5LjQ3DQoy\\nMDEzLTA5LTAxLDgxNzc3LjM1DQoyMDEzLTEwLTAxLDMxNDUzLjM5DQoyMDEz\\nLTExLTAxLDc4NjI4LjcyDQoyMDEzLTEyLTAxLDY5NTQ1LjYyDQoyMDE0LTAx\\nLTAxLDE4MTc0LjA4DQoyMDE0LTAyLTAxLDExOTUxLjQxDQoyMDE0LTAzLTAx\\nLDM4NzI2LjI1DQoyMDE0LTA0LTAxLDM0MTk1LjIxDQoyMDE0LTA1LTAxLDMw\\nMTMxLjY5DQoyMDE0LTA2LTAxLDI0Nzk3LjI5DQoyMDE0LTA3LTAxLDI4NzY1\\nLjMzDQoyMDE0LTA4LTAxLDM2ODk4LjMzDQoyMDE0LTA5LTAxLDY0NTk1Ljky\\nDQoyMDE0LTEwLTAxLDMxNDA0LjkyDQoyMDE0LTExLTAxLDc1OTcyLjU2DQoy\\nMDE0LTEyLTAxLDc0OTE5LjUyDQoyMDE1LTAxLTAxLDE4NTQyLjQ5DQoyMDE1\\nLTAyLTAxLDIyODY3LjcxDQoyMDE1LTAzLTAxLDUxMTg2LjIyDQoyMDE1LTA0\\nLTAxLDM5MjQ4LjU5DQoyMDE1LTA1LTAxLDU2NjkxLjA4DQoyMDE1LTA2LTAx\\nLDM5NDMwLjQ0DQoyMDE1LTA3LTAxLDM4NDQwLjc2DQoyMDE1LTA4LTAxLDMz\\nMjY1LjU2DQoyMDE1LTA5LTAxLDcyOTA4LjExDQoyMDE1LTEwLTAxLDU2NDYz\\nLjEzDQoyMDE1LTExLTAxLDgyMTkyLjMyDQoyMDE1LTEyLTAxLDk3MjM3LjQy\\nDQoyMDE2LTAxLTAxLDQ0NzAzLjE0DQoyMDE2LTAyLTAxLDIwMzAxLjEzDQoy\\nMDE2LTAzLTAxLDU4ODcyLjM1DQoyMDE2LTA0LTAxLDM2NTIxLjU0DQoyMDE2\\nLTA1LTAxLDQ0MjYxLjExDQoyMDE2LTA2LTAxLDUyOTgxLjczDQoyMDE2LTA3\\nLTAxLDQ1MjY0LjQyDQoyMDE2LTA4LTAxLDYzMTIwLjg5DQoyMDE2LTA5LTAx\\nLDg3ODY2LjY1DQoyMDE2LTEwLTAxLDc3Nzc2LjkyDQoyMDE2LTExLTAxLDEx\\nODQ0Ny44Mw0KMjAxNi0xMi0wMSw4MzgyOS4zMg==\\n'"
     },
     "execution_count": 26,
     "metadata": {},
     "output_type": "execute_result"
    }
   ],
   "source": [
    "response_json = json.loads(response.text)\n",
    "response_json['content']"
   ]
  },
  {
   "cell_type": "code",
   "execution_count": 34,
   "metadata": {
    "collapsed": true
   },
   "outputs": [
    {
     "data": {
      "text/plain": "'month,sales\\r\\n2013-01-01,14236.9\\r\\n2013-02-01,4519.89\\r\\n2013-03-01,55691.01\\r\\n2013-04-01,28295.35\\r\\n2013-05-01,23648.29\\r\\n2013-06-01,34595.13\\r\\n2013-07-01,33946.39\\r\\n2013-08-01,27909.47\\r\\n2013-09-01,81777.35\\r\\n2013-10-01,31453.39\\r\\n2013-11-01,78628.72\\r\\n2013-12-01,69545.62\\r\\n2014-01-01,18174.08\\r\\n2014-02-01,11951.41\\r\\n2014-03-01,38726.25\\r\\n2014-04-01,34195.21\\r\\n2014-05-01,30131.69\\r\\n2014-06-01,24797.29\\r\\n2014-07-01,28765.33\\r\\n2014-08-01,36898.33\\r\\n2014-09-01,64595.92\\r\\n2014-10-01,31404.92\\r\\n2014-11-01,75972.56\\r\\n2014-12-01,74919.52\\r\\n2015-01-01,18542.49\\r\\n2015-02-01,22867.71\\r\\n2015-03-01,51186.22\\r\\n2015-04-01,39248.59\\r\\n2015-05-01,56691.08\\r\\n2015-06-01,39430.44\\r\\n2015-07-01,38440.76\\r\\n2015-08-01,33265.56\\r\\n2015-09-01,72908.11\\r\\n2015-10-01,56463.13\\r\\n2015-11-01,82192.32\\r\\n2015-12-01,97237.42\\r\\n2016-01-01,44703.14\\r\\n2016-02-01,20301.13\\r\\n2016-03-01,58872.35\\r\\n2016-04-01,36521.54\\r\\n2016-05-01,44261.11\\r\\n2016-06-01,52981.73\\r\\n2016-07-01,45264.42\\r\\n2016-08-01,63120.89\\r\\n2016-09-01,87866.65\\r\\n2016-10-01,77776.92\\r\\n2016-11-01,118447.83\\r\\n2016-12-01,83829.32'"
     },
     "execution_count": 34,
     "metadata": {},
     "output_type": "execute_result"
    }
   ],
   "source": [
    "# Decode CSV file\n",
    "csv_val = base64.b64decode(response_json['content'].encode('ascii')).decode('ascii')\n",
    "csv_val"
   ]
  },
  {
   "cell_type": "code",
   "execution_count": 35,
   "metadata": {
    "collapsed": true
   },
   "outputs": [
    {
     "data": {
      "text/plain": "[{'month': '2013-01-01', 'sales': '14236.9'},\n {'month': '2013-02-01', 'sales': '4519.89'},\n {'month': '2013-03-01', 'sales': '55691.01'},\n {'month': '2013-04-01', 'sales': '28295.35'},\n {'month': '2013-05-01', 'sales': '23648.29'},\n {'month': '2013-06-01', 'sales': '34595.13'},\n {'month': '2013-07-01', 'sales': '33946.39'},\n {'month': '2013-08-01', 'sales': '27909.47'},\n {'month': '2013-09-01', 'sales': '81777.35'},\n {'month': '2013-10-01', 'sales': '31453.39'},\n {'month': '2013-11-01', 'sales': '78628.72'},\n {'month': '2013-12-01', 'sales': '69545.62'},\n {'month': '2014-01-01', 'sales': '18174.08'},\n {'month': '2014-02-01', 'sales': '11951.41'},\n {'month': '2014-03-01', 'sales': '38726.25'},\n {'month': '2014-04-01', 'sales': '34195.21'},\n {'month': '2014-05-01', 'sales': '30131.69'},\n {'month': '2014-06-01', 'sales': '24797.29'},\n {'month': '2014-07-01', 'sales': '28765.33'},\n {'month': '2014-08-01', 'sales': '36898.33'},\n {'month': '2014-09-01', 'sales': '64595.92'},\n {'month': '2014-10-01', 'sales': '31404.92'},\n {'month': '2014-11-01', 'sales': '75972.56'},\n {'month': '2014-12-01', 'sales': '74919.52'},\n {'month': '2015-01-01', 'sales': '18542.49'},\n {'month': '2015-02-01', 'sales': '22867.71'},\n {'month': '2015-03-01', 'sales': '51186.22'},\n {'month': '2015-04-01', 'sales': '39248.59'},\n {'month': '2015-05-01', 'sales': '56691.08'},\n {'month': '2015-06-01', 'sales': '39430.44'},\n {'month': '2015-07-01', 'sales': '38440.76'},\n {'month': '2015-08-01', 'sales': '33265.56'},\n {'month': '2015-09-01', 'sales': '72908.11'},\n {'month': '2015-10-01', 'sales': '56463.13'},\n {'month': '2015-11-01', 'sales': '82192.32'},\n {'month': '2015-12-01', 'sales': '97237.42'},\n {'month': '2016-01-01', 'sales': '44703.14'},\n {'month': '2016-02-01', 'sales': '20301.13'},\n {'month': '2016-03-01', 'sales': '58872.35'},\n {'month': '2016-04-01', 'sales': '36521.54'},\n {'month': '2016-05-01', 'sales': '44261.11'},\n {'month': '2016-06-01', 'sales': '52981.73'},\n {'month': '2016-07-01', 'sales': '45264.42'},\n {'month': '2016-08-01', 'sales': '63120.89'},\n {'month': '2016-09-01', 'sales': '87866.65'},\n {'month': '2016-10-01', 'sales': '77776.92'},\n {'month': '2016-11-01', 'sales': '118447.83'},\n {'month': '2016-12-01', 'sales': '83829.32'}]"
     },
     "execution_count": 35,
     "metadata": {},
     "output_type": "execute_result"
    }
   ],
   "source": [
    "# using csv.DictReader needs a filestream so we're making an String IO and passing a unicode string in\n",
    "# then reading the stream and adding each dictionary to the dictionary list\n",
    "import csv\n",
    "import io\n",
    "csv_dict = csv.DictReader(io.StringIO(csv_val))\n",
    "dict_list = []\n",
    "for a in csv_dict:\n",
    "    dict_list.append(a)\n",
    "dict_list"
   ]
  },
  {
   "cell_type": "code",
   "execution_count": 36,
   "metadata": {},
   "outputs": [
    {
     "name": "stdout",
     "output_type": "stream",
     "text": [
      "{'month': '2013-01-01', 'sales': '14236.9'}\n",
      "{'month': '2013-02-01', 'sales': '4519.89'}\n",
      "{'month': '2013-03-01', 'sales': '55691.01'}\n",
      "{'month': '2013-04-01', 'sales': '28295.35'}\n",
      "{'month': '2013-05-01', 'sales': '23648.29'}\n",
      "{'month': '2013-06-01', 'sales': '34595.13'}\n",
      "{'month': '2013-07-01', 'sales': '33946.39'}\n",
      "{'month': '2013-08-01', 'sales': '27909.47'}\n",
      "{'month': '2013-09-01', 'sales': '81777.35'}\n",
      "{'month': '2013-10-01', 'sales': '31453.39'}\n",
      "{'month': '2013-11-01', 'sales': '78628.72'}\n",
      "{'month': '2013-12-01', 'sales': '69545.62'}\n",
      "{'month': '2014-01-01', 'sales': '18174.08'}\n",
      "{'month': '2014-02-01', 'sales': '11951.41'}\n",
      "{'month': '2014-03-01', 'sales': '38726.25'}\n",
      "{'month': '2014-04-01', 'sales': '34195.21'}\n",
      "{'month': '2014-05-01', 'sales': '30131.69'}\n",
      "{'month': '2014-06-01', 'sales': '24797.29'}\n",
      "{'month': '2014-07-01', 'sales': '28765.33'}\n",
      "{'month': '2014-08-01', 'sales': '36898.33'}\n",
      "{'month': '2014-09-01', 'sales': '64595.92'}\n",
      "{'month': '2014-10-01', 'sales': '31404.92'}\n",
      "{'month': '2014-11-01', 'sales': '75972.56'}\n",
      "{'month': '2014-12-01', 'sales': '74919.52'}\n",
      "{'month': '2015-01-01', 'sales': '18542.49'}\n",
      "{'month': '2015-02-01', 'sales': '22867.71'}\n",
      "{'month': '2015-03-01', 'sales': '51186.22'}\n",
      "{'month': '2015-04-01', 'sales': '39248.59'}\n",
      "{'month': '2015-05-01', 'sales': '56691.08'}\n",
      "{'month': '2015-06-01', 'sales': '39430.44'}\n",
      "{'month': '2015-07-01', 'sales': '38440.76'}\n",
      "{'month': '2015-08-01', 'sales': '33265.56'}\n",
      "{'month': '2015-09-01', 'sales': '72908.11'}\n",
      "{'month': '2015-10-01', 'sales': '56463.13'}\n",
      "{'month': '2015-11-01', 'sales': '82192.32'}\n",
      "{'month': '2015-12-01', 'sales': '97237.42'}\n",
      "{'month': '2016-01-01', 'sales': '44703.14'}\n",
      "{'month': '2016-02-01', 'sales': '20301.13'}\n",
      "{'month': '2016-03-01', 'sales': '58872.35'}\n",
      "{'month': '2016-04-01', 'sales': '36521.54'}\n",
      "{'month': '2016-05-01', 'sales': '44261.11'}\n",
      "{'month': '2016-06-01', 'sales': '52981.73'}\n",
      "{'month': '2016-07-01', 'sales': '45264.42'}\n",
      "{'month': '2016-08-01', 'sales': '63120.89'}\n",
      "{'month': '2016-09-01', 'sales': '87866.65'}\n",
      "{'month': '2016-10-01', 'sales': '77776.92'}\n",
      "{'month': '2016-11-01', 'sales': '118447.83'}\n",
      "{'month': '2016-12-01', 'sales': '83829.32'}\n"
     ]
    }
   ],
   "source": [
    "for a in dict_list:\n",
    "    print(a)"
   ]
  },
  {
   "cell_type": "code",
   "execution_count": 37,
   "metadata": {},
   "outputs": [
    {
     "name": "stdout",
     "output_type": "stream",
     "text": [
      "month:  2013-01-01\n",
      "sales:  14236.9\n",
      "\n",
      "\n",
      "month:  2013-02-01\n",
      "sales:  4519.89\n",
      "\n",
      "\n",
      "month:  2013-03-01\n",
      "sales:  55691.01\n",
      "\n",
      "\n",
      "month:  2013-04-01\n",
      "sales:  28295.35\n",
      "\n",
      "\n",
      "month:  2013-05-01\n",
      "sales:  23648.29\n",
      "\n",
      "\n",
      "month:  2013-06-01\n",
      "sales:  34595.13\n",
      "\n",
      "\n",
      "month:  2013-07-01\n",
      "sales:  33946.39\n",
      "\n",
      "\n",
      "month:  2013-08-01\n",
      "sales:  27909.47\n",
      "\n",
      "\n",
      "month:  2013-09-01\n",
      "sales:  81777.35\n",
      "\n",
      "\n",
      "month:  2013-10-01\n",
      "sales:  31453.39\n",
      "\n",
      "\n",
      "month:  2013-11-01\n",
      "sales:  78628.72\n",
      "\n",
      "\n",
      "month:  2013-12-01\n",
      "sales:  69545.62\n",
      "\n",
      "\n",
      "month:  2014-01-01\n",
      "sales:  18174.08\n",
      "\n",
      "\n",
      "month:  2014-02-01\n",
      "sales:  11951.41\n",
      "\n",
      "\n",
      "month:  2014-03-01\n",
      "sales:  38726.25\n",
      "\n",
      "\n",
      "month:  2014-04-01\n",
      "sales:  34195.21\n",
      "\n",
      "\n",
      "month:  2014-05-01\n",
      "sales:  30131.69\n",
      "\n",
      "\n",
      "month:  2014-06-01\n",
      "sales:  24797.29\n",
      "\n",
      "\n",
      "month:  2014-07-01\n",
      "sales:  28765.33\n",
      "\n",
      "\n",
      "month:  2014-08-01\n",
      "sales:  36898.33\n",
      "\n",
      "\n",
      "month:  2014-09-01\n",
      "sales:  64595.92\n",
      "\n",
      "\n",
      "month:  2014-10-01\n",
      "sales:  31404.92\n",
      "\n",
      "\n",
      "month:  2014-11-01\n",
      "sales:  75972.56\n",
      "\n",
      "\n",
      "month:  2014-12-01\n",
      "sales:  74919.52\n",
      "\n",
      "\n",
      "month:  2015-01-01\n",
      "sales:  18542.49\n",
      "\n",
      "\n",
      "month:  2015-02-01\n",
      "sales:  22867.71\n",
      "\n",
      "\n",
      "month:  2015-03-01\n",
      "sales:  51186.22\n",
      "\n",
      "\n",
      "month:  2015-04-01\n",
      "sales:  39248.59\n",
      "\n",
      "\n",
      "month:  2015-05-01\n",
      "sales:  56691.08\n",
      "\n",
      "\n",
      "month:  2015-06-01\n",
      "sales:  39430.44\n",
      "\n",
      "\n",
      "month:  2015-07-01\n",
      "sales:  38440.76\n",
      "\n",
      "\n",
      "month:  2015-08-01\n",
      "sales:  33265.56\n",
      "\n",
      "\n",
      "month:  2015-09-01\n",
      "sales:  72908.11\n",
      "\n",
      "\n",
      "month:  2015-10-01\n",
      "sales:  56463.13\n",
      "\n",
      "\n",
      "month:  2015-11-01\n",
      "sales:  82192.32\n",
      "\n",
      "\n",
      "month:  2015-12-01\n",
      "sales:  97237.42\n",
      "\n",
      "\n",
      "month:  2016-01-01\n",
      "sales:  44703.14\n",
      "\n",
      "\n",
      "month:  2016-02-01\n",
      "sales:  20301.13\n",
      "\n",
      "\n",
      "month:  2016-03-01\n",
      "sales:  58872.35\n",
      "\n",
      "\n",
      "month:  2016-04-01\n",
      "sales:  36521.54\n",
      "\n",
      "\n",
      "month:  2016-05-01\n",
      "sales:  44261.11\n",
      "\n",
      "\n",
      "month:  2016-06-01\n",
      "sales:  52981.73\n",
      "\n",
      "\n",
      "month:  2016-07-01\n",
      "sales:  45264.42\n",
      "\n",
      "\n",
      "month:  2016-08-01\n",
      "sales:  63120.89\n",
      "\n",
      "\n",
      "month:  2016-09-01\n",
      "sales:  87866.65\n",
      "\n",
      "\n",
      "month:  2016-10-01\n",
      "sales:  77776.92\n",
      "\n",
      "\n",
      "month:  2016-11-01\n",
      "sales:  118447.83\n",
      "\n",
      "\n",
      "month:  2016-12-01\n",
      "sales:  83829.32\n",
      "\n",
      "\n"
     ]
    }
   ],
   "source": [
    "#print keys and values\n",
    "for a in dict_list:\n",
    "    for key, value in a.items():\n",
    "        print(key + \": \", value)\n",
    "    print('\\n')"
   ]
  },
  {
   "cell_type": "code",
   "execution_count": null,
   "metadata": {
    "collapsed": true
   },
   "outputs": [],
   "source": []
  }
 ],
 "metadata": {
  "kernelspec": {
   "name": "python3",
   "language": "python",
   "display_name": "Python 3 (ipykernel)"
  },
  "language_info": {
   "codemirror_mode": {
    "name": "ipython",
    "version": 2
   },
   "file_extension": ".py",
   "mimetype": "text/x-python",
   "name": "python",
   "nbconvert_exporter": "python",
   "pygments_lexer": "ipython2",
   "version": "2.7.13"
  }
 },
 "nbformat": 4,
 "nbformat_minor": 2
}