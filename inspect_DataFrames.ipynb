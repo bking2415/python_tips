{
 "cells": [
  {
   "cell_type": "code",
   "execution_count": 6,
   "metadata": {
    "collapsed": true
   },
   "outputs": [],
   "source": [
    "import pandas as pd"
   ]
  },
  {
   "cell_type": "code",
   "execution_count": 8,
   "metadata": {
    "collapsed": true
   },
   "outputs": [],
   "source": [
    "# Read in a CSV File\n",
    "df = pd.read_csv('data/MonthlyProductSales.csv', encoding='cp1252')"
   ]
  },
  {
   "cell_type": "code",
   "execution_count": 9,
   "metadata": {},
   "outputs": [
    {
     "data": {
      "text/plain": "     Month of Order Date                                       Product Name  \\\n0             2013-05-01  1.7 Cubic Foot Compact \"Cube\" Office Refrigera...   \n1             2015-06-01  1.7 Cubic Foot Compact \"Cube\" Office Refrigera...   \n2             2013-11-01  1.7 Cubic Foot Compact \"Cube\" Office Refrigera...   \n3             2016-07-01  1.7 Cubic Foot Compact \"Cube\" Office Refrigera...   \n4             2016-11-01  1.7 Cubic Foot Compact \"Cube\" Office Refrigera...   \n...                  ...                                                ...   \n9247          2016-06-01                         Zipper Ring Binder Pockets   \n9248          2016-07-01                         Zipper Ring Binder Pockets   \n9249          2013-04-01                         Zipper Ring Binder Pockets   \n9250          2016-12-01                         Zipper Ring Binder Pockets   \n9251          2013-07-01                         Zipper Ring Binder Pockets   \n\n      Sales  \n0     208.0  \n1     208.0  \n2     333.0  \n3     416.0  \n4     500.0  \n...     ...  \n9247    6.0  \n9248   10.0  \n9249   14.0  \n9250   15.0  \n9251   16.0  \n\n[9252 rows x 3 columns]",
      "text/html": "<div>\n<style scoped>\n    .dataframe tbody tr th:only-of-type {\n        vertical-align: middle;\n    }\n\n    .dataframe tbody tr th {\n        vertical-align: top;\n    }\n\n    .dataframe thead th {\n        text-align: right;\n    }\n</style>\n<table border=\"1\" class=\"dataframe\">\n  <thead>\n    <tr style=\"text-align: right;\">\n      <th></th>\n      <th>Month of Order Date</th>\n      <th>Product Name</th>\n      <th>Sales</th>\n    </tr>\n  </thead>\n  <tbody>\n    <tr>\n      <th>0</th>\n      <td>2013-05-01</td>\n      <td>1.7 Cubic Foot Compact \"Cube\" Office Refrigera...</td>\n      <td>208.0</td>\n    </tr>\n    <tr>\n      <th>1</th>\n      <td>2015-06-01</td>\n      <td>1.7 Cubic Foot Compact \"Cube\" Office Refrigera...</td>\n      <td>208.0</td>\n    </tr>\n    <tr>\n      <th>2</th>\n      <td>2013-11-01</td>\n      <td>1.7 Cubic Foot Compact \"Cube\" Office Refrigera...</td>\n      <td>333.0</td>\n    </tr>\n    <tr>\n      <th>3</th>\n      <td>2016-07-01</td>\n      <td>1.7 Cubic Foot Compact \"Cube\" Office Refrigera...</td>\n      <td>416.0</td>\n    </tr>\n    <tr>\n      <th>4</th>\n      <td>2016-11-01</td>\n      <td>1.7 Cubic Foot Compact \"Cube\" Office Refrigera...</td>\n      <td>500.0</td>\n    </tr>\n    <tr>\n      <th>...</th>\n      <td>...</td>\n      <td>...</td>\n      <td>...</td>\n    </tr>\n    <tr>\n      <th>9247</th>\n      <td>2016-06-01</td>\n      <td>Zipper Ring Binder Pockets</td>\n      <td>6.0</td>\n    </tr>\n    <tr>\n      <th>9248</th>\n      <td>2016-07-01</td>\n      <td>Zipper Ring Binder Pockets</td>\n      <td>10.0</td>\n    </tr>\n    <tr>\n      <th>9249</th>\n      <td>2013-04-01</td>\n      <td>Zipper Ring Binder Pockets</td>\n      <td>14.0</td>\n    </tr>\n    <tr>\n      <th>9250</th>\n      <td>2016-12-01</td>\n      <td>Zipper Ring Binder Pockets</td>\n      <td>15.0</td>\n    </tr>\n    <tr>\n      <th>9251</th>\n      <td>2013-07-01</td>\n      <td>Zipper Ring Binder Pockets</td>\n      <td>16.0</td>\n    </tr>\n  </tbody>\n</table>\n<p>9252 rows × 3 columns</p>\n</div>"
     },
     "execution_count": 9,
     "metadata": {},
     "output_type": "execute_result"
    }
   ],
   "source": [
    "# Print DataFrame\n",
    "df"
   ]
  },
  {
   "cell_type": "code",
   "execution_count": 10,
   "metadata": {},
   "outputs": [
    {
     "data": {
      "text/plain": "  Month of Order Date                                       Product Name  \\\n0          2013-05-01  1.7 Cubic Foot Compact \"Cube\" Office Refrigera...   \n1          2015-06-01  1.7 Cubic Foot Compact \"Cube\" Office Refrigera...   \n2          2013-11-01  1.7 Cubic Foot Compact \"Cube\" Office Refrigera...   \n3          2016-07-01  1.7 Cubic Foot Compact \"Cube\" Office Refrigera...   \n4          2016-11-01  1.7 Cubic Foot Compact \"Cube\" Office Refrigera...   \n5          2015-08-01  1.7 Cubic Foot Compact \"Cube\" Office Refrigera...   \n6          2013-11-01  1/4 Fold Party Design Invitations & White Enve...   \n7          2014-11-01  1/4 Fold Party Design Invitations & White Enve...   \n8          2014-12-01                                 3-ring staple pack   \n9          2013-01-01                                 3-ring staple pack   \n\n    Sales  \n0   208.0  \n1   208.0  \n2   333.0  \n3   416.0  \n4   500.0  \n5  1041.0  \n6     6.0  \n7    44.0  \n8     4.0  \n9     6.0  ",
      "text/html": "<div>\n<style scoped>\n    .dataframe tbody tr th:only-of-type {\n        vertical-align: middle;\n    }\n\n    .dataframe tbody tr th {\n        vertical-align: top;\n    }\n\n    .dataframe thead th {\n        text-align: right;\n    }\n</style>\n<table border=\"1\" class=\"dataframe\">\n  <thead>\n    <tr style=\"text-align: right;\">\n      <th></th>\n      <th>Month of Order Date</th>\n      <th>Product Name</th>\n      <th>Sales</th>\n    </tr>\n  </thead>\n  <tbody>\n    <tr>\n      <th>0</th>\n      <td>2013-05-01</td>\n      <td>1.7 Cubic Foot Compact \"Cube\" Office Refrigera...</td>\n      <td>208.0</td>\n    </tr>\n    <tr>\n      <th>1</th>\n      <td>2015-06-01</td>\n      <td>1.7 Cubic Foot Compact \"Cube\" Office Refrigera...</td>\n      <td>208.0</td>\n    </tr>\n    <tr>\n      <th>2</th>\n      <td>2013-11-01</td>\n      <td>1.7 Cubic Foot Compact \"Cube\" Office Refrigera...</td>\n      <td>333.0</td>\n    </tr>\n    <tr>\n      <th>3</th>\n      <td>2016-07-01</td>\n      <td>1.7 Cubic Foot Compact \"Cube\" Office Refrigera...</td>\n      <td>416.0</td>\n    </tr>\n    <tr>\n      <th>4</th>\n      <td>2016-11-01</td>\n      <td>1.7 Cubic Foot Compact \"Cube\" Office Refrigera...</td>\n      <td>500.0</td>\n    </tr>\n    <tr>\n      <th>5</th>\n      <td>2015-08-01</td>\n      <td>1.7 Cubic Foot Compact \"Cube\" Office Refrigera...</td>\n      <td>1041.0</td>\n    </tr>\n    <tr>\n      <th>6</th>\n      <td>2013-11-01</td>\n      <td>1/4 Fold Party Design Invitations &amp; White Enve...</td>\n      <td>6.0</td>\n    </tr>\n    <tr>\n      <th>7</th>\n      <td>2014-11-01</td>\n      <td>1/4 Fold Party Design Invitations &amp; White Enve...</td>\n      <td>44.0</td>\n    </tr>\n    <tr>\n      <th>8</th>\n      <td>2014-12-01</td>\n      <td>3-ring staple pack</td>\n      <td>4.0</td>\n    </tr>\n    <tr>\n      <th>9</th>\n      <td>2013-01-01</td>\n      <td>3-ring staple pack</td>\n      <td>6.0</td>\n    </tr>\n  </tbody>\n</table>\n</div>"
     },
     "execution_count": 10,
     "metadata": {},
     "output_type": "execute_result"
    }
   ],
   "source": [
    "# show first 10 rows\n",
    "df.head(n=10)"
   ]
  },
  {
   "cell_type": "code",
   "execution_count": 11,
   "metadata": {},
   "outputs": [
    {
     "data": {
      "text/plain": "     Month of Order Date                Product Name  Sales\n9242          2015-07-01  Zipper Ring Binder Pockets    2.0\n9243          2015-12-01  Zipper Ring Binder Pockets    3.0\n9244          2016-01-01  Zipper Ring Binder Pockets    3.0\n9245          2015-11-01  Zipper Ring Binder Pockets    4.0\n9246          2014-11-01  Zipper Ring Binder Pockets    6.0\n9247          2016-06-01  Zipper Ring Binder Pockets    6.0\n9248          2016-07-01  Zipper Ring Binder Pockets   10.0\n9249          2013-04-01  Zipper Ring Binder Pockets   14.0\n9250          2016-12-01  Zipper Ring Binder Pockets   15.0\n9251          2013-07-01  Zipper Ring Binder Pockets   16.0",
      "text/html": "<div>\n<style scoped>\n    .dataframe tbody tr th:only-of-type {\n        vertical-align: middle;\n    }\n\n    .dataframe tbody tr th {\n        vertical-align: top;\n    }\n\n    .dataframe thead th {\n        text-align: right;\n    }\n</style>\n<table border=\"1\" class=\"dataframe\">\n  <thead>\n    <tr style=\"text-align: right;\">\n      <th></th>\n      <th>Month of Order Date</th>\n      <th>Product Name</th>\n      <th>Sales</th>\n    </tr>\n  </thead>\n  <tbody>\n    <tr>\n      <th>9242</th>\n      <td>2015-07-01</td>\n      <td>Zipper Ring Binder Pockets</td>\n      <td>2.0</td>\n    </tr>\n    <tr>\n      <th>9243</th>\n      <td>2015-12-01</td>\n      <td>Zipper Ring Binder Pockets</td>\n      <td>3.0</td>\n    </tr>\n    <tr>\n      <th>9244</th>\n      <td>2016-01-01</td>\n      <td>Zipper Ring Binder Pockets</td>\n      <td>3.0</td>\n    </tr>\n    <tr>\n      <th>9245</th>\n      <td>2015-11-01</td>\n      <td>Zipper Ring Binder Pockets</td>\n      <td>4.0</td>\n    </tr>\n    <tr>\n      <th>9246</th>\n      <td>2014-11-01</td>\n      <td>Zipper Ring Binder Pockets</td>\n      <td>6.0</td>\n    </tr>\n    <tr>\n      <th>9247</th>\n      <td>2016-06-01</td>\n      <td>Zipper Ring Binder Pockets</td>\n      <td>6.0</td>\n    </tr>\n    <tr>\n      <th>9248</th>\n      <td>2016-07-01</td>\n      <td>Zipper Ring Binder Pockets</td>\n      <td>10.0</td>\n    </tr>\n    <tr>\n      <th>9249</th>\n      <td>2013-04-01</td>\n      <td>Zipper Ring Binder Pockets</td>\n      <td>14.0</td>\n    </tr>\n    <tr>\n      <th>9250</th>\n      <td>2016-12-01</td>\n      <td>Zipper Ring Binder Pockets</td>\n      <td>15.0</td>\n    </tr>\n    <tr>\n      <th>9251</th>\n      <td>2013-07-01</td>\n      <td>Zipper Ring Binder Pockets</td>\n      <td>16.0</td>\n    </tr>\n  </tbody>\n</table>\n</div>"
     },
     "execution_count": 11,
     "metadata": {},
     "output_type": "execute_result"
    }
   ],
   "source": [
    "# show last 10 rows\n",
    "df.tail(n=10)"
   ]
  },
  {
   "cell_type": "code",
   "execution_count": 12,
   "metadata": {},
   "outputs": [
    {
     "data": {
      "text/plain": "              Sales\ncount   9252.000000\nmean     248.308798\nstd      669.441779\nmin        0.000000\n25%       18.000000\n50%       60.000000\n75%      222.000000\nmax    22638.000000",
      "text/html": "<div>\n<style scoped>\n    .dataframe tbody tr th:only-of-type {\n        vertical-align: middle;\n    }\n\n    .dataframe tbody tr th {\n        vertical-align: top;\n    }\n\n    .dataframe thead th {\n        text-align: right;\n    }\n</style>\n<table border=\"1\" class=\"dataframe\">\n  <thead>\n    <tr style=\"text-align: right;\">\n      <th></th>\n      <th>Sales</th>\n    </tr>\n  </thead>\n  <tbody>\n    <tr>\n      <th>count</th>\n      <td>9252.000000</td>\n    </tr>\n    <tr>\n      <th>mean</th>\n      <td>248.308798</td>\n    </tr>\n    <tr>\n      <th>std</th>\n      <td>669.441779</td>\n    </tr>\n    <tr>\n      <th>min</th>\n      <td>0.000000</td>\n    </tr>\n    <tr>\n      <th>25%</th>\n      <td>18.000000</td>\n    </tr>\n    <tr>\n      <th>50%</th>\n      <td>60.000000</td>\n    </tr>\n    <tr>\n      <th>75%</th>\n      <td>222.000000</td>\n    </tr>\n    <tr>\n      <th>max</th>\n      <td>22638.000000</td>\n    </tr>\n  </tbody>\n</table>\n</div>"
     },
     "execution_count": 12,
     "metadata": {},
     "output_type": "execute_result"
    }
   ],
   "source": [
    "# show summary stats of the sales column\n",
    "df.describe()"
   ]
  },
  {
   "cell_type": "code",
   "execution_count": 13,
   "metadata": {},
   "outputs": [
    {
     "name": "stdout",
     "output_type": "stream",
     "text": [
      "<class 'pandas.core.frame.DataFrame'>\n",
      "RangeIndex: 9252 entries, 0 to 9251\n",
      "Data columns (total 3 columns):\n",
      " #   Column               Non-Null Count  Dtype  \n",
      "---  ------               --------------  -----  \n",
      " 0   Month of Order Date  9252 non-null   object \n",
      " 1   Product Name         9252 non-null   object \n",
      " 2   Sales                9252 non-null   float64\n",
      "dtypes: float64(1), object(2)\n",
      "memory usage: 217.0+ KB\n"
     ]
    }
   ],
   "source": [
    "df.info()"
   ]
  },
  {
   "cell_type": "code",
   "execution_count": 15,
   "metadata": {},
   "outputs": [
    {
     "data": {
      "text/plain": "Easy-staple paper                                              32\nStaples                                                        30\nStaple envelope                                                30\nStaples in misc. colors                                        18\nAvery Non-Stick Binders                                        14\n                                                               ..\nXerox 20                                                        1\nCisco Desktop Collaboration Experience DX650 IP Video Phone     1\nCisco SPA 501G IP Phone                                         1\nCisco SPA525G2 5-Line IP Phone                                  1\nPanasonic BusinessÊTelephonesÊKX-T7736                          1\nName: Product Name, Length: 1850, dtype: int64"
     },
     "execution_count": 15,
     "metadata": {},
     "output_type": "execute_result"
    }
   ],
   "source": [
    "# return as a series\n",
    "s = df['Product Name']\n",
    "\n",
    "# get count of values\n",
    "s.value_counts(dropna=False)"
   ]
  },
  {
   "cell_type": "code",
   "execution_count": null,
   "metadata": {
    "collapsed": true
   },
   "outputs": [],
   "source": []
  }
 ],
 "metadata": {
  "kernelspec": {
   "name": "python3",
   "language": "python",
   "display_name": "Python 3 (ipykernel)"
  },
  "language_info": {
   "codemirror_mode": {
    "name": "ipython",
    "version": 2
   },
   "file_extension": ".py",
   "mimetype": "text/x-python",
   "name": "python",
   "nbconvert_exporter": "python",
   "pygments_lexer": "ipython2",
   "version": "2.7.13"
  }
 },
 "nbformat": 4,
 "nbformat_minor": 2
}