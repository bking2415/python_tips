{
 "cells": [
  {
   "cell_type": "code",
   "execution_count": null,
   "metadata": {},
   "outputs": [],
   "source": [
    "'''ggplot install error for python 3'''\n",
    "#TODO need to update based on Python3\n",
    "# Start by importing our libraries\n",
    "%matplotlib inline\n",
    "from ggplot import *"
   ]
  },
  {
   "cell_type": "code",
   "execution_count": null,
   "metadata": {},
   "outputs": [],
   "source": [
    "# Let's start w/ a scatter plot\n",
    "ggplot(mpg, aes(x='cty', y='hwy')) + geom_point()"
   ]
  },
  {
   "cell_type": "code",
   "execution_count": null,
   "metadata": {},
   "outputs": [],
   "source": [
    "# Let's add a title\n",
    "ggplot(mpg, aes(x='cty', y='hwy')) + geom_point() + \\\n",
    "    ggtitle(\"City vs. Highway Miles per Gallon\")"
   ]
  },
  {
   "cell_type": "code",
   "execution_count": null,
   "metadata": {},
   "outputs": [],
   "source": [
    "# Now let's add some custom labels\n",
    "ggplot(mpg, aes(x='cty', y='hwy')) + geom_point() + ggtitle(\"City vs. Highway Miles per Gallon\") + \\\n",
    "    xlab(\"City MPG (Miles per Gallon)\") + \\\n",
    "    ylab(\"Highway MPG (Miles per Gallon)\")"
   ]
  },
  {
   "cell_type": "code",
   "execution_count": null,
   "metadata": {},
   "outputs": [],
   "source": [
    "# Color might help here\n",
    "ggplot(mpg, aes(x='cty', y='hwy', color='class')) + geom_point() + ggtitle(\"City vs. Highway Miles per Gallon\") + \\\n",
    "    xlab(\"City MPG (Miles per Gallon)\") + \\\n",
    "    ylab(\"Highway MPG (Miles per Gallon)\") + \\\n",
    "    scale_color_brewer(type='qual')"
   ]
  },
  {
   "cell_type": "code",
   "execution_count": null,
   "metadata": {},
   "outputs": [],
   "source": [
    "# How about splitting these out?\n",
    "ggplot(mpg, aes(x='cty', y='hwy', color='class')) + geom_point() + ggtitle(\"City vs. Highway Miles per Gallon\") + \\\n",
    "    xlab(\"City MPG (Miles per Gallon)\") + \\\n",
    "    ylab(\"Highway MPG (Miles per Gallon)\") + \\\n",
    "    scale_color_brewer(type='qual') + \\\n",
    "    facet_wrap(x='year',y='cyl')"
   ]
  },
  {
   "cell_type": "code",
   "execution_count": null,
   "metadata": {
    "collapsed": true
   },
   "outputs": [],
   "source": []
  }
 ],
 "metadata": {
  "anaconda-cloud": {},
  "kernelspec": {
   "name": "python3",
   "language": "python",
   "display_name": "Python 3 (ipykernel)"
  },
  "language_info": {
   "codemirror_mode": {
    "name": "ipython",
    "version": 2
   },
   "file_extension": ".py",
   "mimetype": "text/x-python",
   "name": "python",
   "nbconvert_exporter": "python",
   "pygments_lexer": "ipython2",
   "version": "2.7.13"
  }
 },
 "nbformat": 4,
 "nbformat_minor": 1
}